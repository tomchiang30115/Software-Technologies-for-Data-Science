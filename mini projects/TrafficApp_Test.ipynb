{
 "cells": [
  {
   "cell_type": "markdown",
   "metadata": {},
   "source": [
    "# Traffic Application Testing Code\n",
    "\n",
    "This notebook is designed to communicate with the Traffic Application server and perform a series of tests. You should start the server with a copy of the clean database and execute the core code and each of the tests. If a test fails, it is necessary to restart the server and re-run the test to ensure that the test did not fail because of the state the server was in due to the previous tests."
   ]
  },
  {
   "cell_type": "code",
   "execution_count": 7,
   "metadata": {
    "collapsed": true
   },
   "outputs": [],
   "source": [
    "# The core code.\n",
    "import random\n",
    "import requests\n",
    "import xml.etree.ElementTree as ET\n",
    "import base64\n",
    "\n",
    "def parse_actions(root):\n",
    "    actions = []\n",
    "    for child in root.findall('action'):\n",
    "        type = child.find('type')\n",
    "        if(type.text == 'refill'):\n",
    "            where = child.find('where')\n",
    "            what = child.find('what')\n",
    "            actions.append(['refill',[where.text,base64.b64decode(what.text).decode('ascii')]])\n",
    "        if(type.text == 'redirect'):\n",
    "            where = child.find('where')\n",
    "            actions.append(['redirect',[where.text]])\n",
    "        if(type.text == 'append'):\n",
    "            where = child.find('where')\n",
    "            what = child.find('what')\n",
    "            actions.append(['refill',[where.text,base64.b64decode(what.text).decode('ascii')]])\n",
    "    return actions\n",
    "\n",
    "def request2server(url,cookies):\n",
    "    ucookie = cookies[0]\n",
    "    mcookie = cookies[1]\n",
    "    try:\n",
    "        r = requests.get(url,cookies=dict(u_cookie=cookies[0],m_cookie=cookies[1]))\n",
    "        for c in r.cookies:\n",
    "            if (c.name == 'u_cookie'):\n",
    "                ucookie = c.value\n",
    "            if (c.name == 'm_cookie'):\n",
    "                mcookie = c.value\n",
    "        root=ET.fromstring(r.text)\n",
    "        act = parse_actions(root)\n",
    "        return [[ucookie,mcookie],act]\n",
    "    except:\n",
    "        return [[ucookie,mcookie],[['status', [-1]]]]\n",
    "    \n",
    "def find_redirect(act):\n",
    "    for a in act:\n",
    "        if a[0] == 'redirect':\n",
    "            return a[1][0]\n",
    "    return None\n",
    "\n",
    "def find_refill(act,where):\n",
    "    for a in act:\n",
    "        if a[0] == 'refill':\n",
    "            if a[1][0] == where:\n",
    "                return a[1][1]\n",
    "    return None\n",
    "\n",
    "def randparam():\n",
    "    return \"&rand=\"+str(random.randrange(10000,99999))\n",
    "\n",
    "def do_login(cookies,user,pasw):\n",
    "    return request2server(\"http://localhost:8081/action?command=login&usernameinput=\"+user+\"&passwordinput=\"+pasw+randparam(),cookies)\n",
    "\n",
    "def do_add(cookies,loc,occupancy,vtype):\n",
    "    return request2server(\"http://localhost:8081/action?command=add&locationinput=\"+loc+\"&occupancyinput=\"+str(occupancy)+\"&typeinput=\"+vtype+randparam(),cookies)\n",
    "\n",
    "def do_summary(cookies):\n",
    "    return request2server(\"http://localhost:8081/action?command=summary\"+randparam(),cookies)\n",
    "\n",
    "def do_logout(cookies):\n",
    "    return request2server(\"http://localhost:8081/action?command=logout\"+randparam(),cookies)"
   ]
  },
  {
   "cell_type": "code",
   "execution_count": 8,
   "metadata": {
    "collapsed": true
   },
   "outputs": [],
   "source": [
    "# Test 1 - Simple login\n",
    "def test1():\n",
    "    try:\n",
    "        cookies = ['','']\n",
    "        [cookies,act] = do_login(cookies,\"test1\",\"password1\")\n",
    "    \n",
    "        where = find_redirect(act)\n",
    "    \n",
    "        if (where != '/page.html'):\n",
    "            print(\"Test 1 Failed - Expected /page.html got {\"+where+\"}\")\n",
    "            return\n",
    "\n",
    "        [cookies,act] = do_logout(cookies)\n",
    "        \n",
    "        where = find_redirect(act)\n",
    "    \n",
    "        if (where != '/index.html'):\n",
    "            print(\"Test 1 Failed - Expected /index.html got {\"+where+\"}\")\n",
    "            return\n",
    "        print(\"Test 1 Passed\")\n",
    "    except:\n",
    "        print(\"Test 1 Failed - Exception Caused.\")\n",
    "        "
   ]
  },
  {
   "cell_type": "code",
   "execution_count": 9,
   "metadata": {
    "collapsed": true
   },
   "outputs": [],
   "source": [
    "# Test 2 - Bad login\n",
    "def test2():\n",
    "    try:\n",
    "        cookies = ['','']\n",
    "        [cookies,act2] = do_login(cookies,\"test1\",\"passwor1\")\n",
    "        where = find_redirect(act2)\n",
    "    \n",
    "        if (where != None):\n",
    "            print(\"Test 2 Failed - Unexpected redirect.\")\n",
    "            return\n",
    "        \n",
    "        message = find_refill(act2,'message')\n",
    "    \n",
    "        if (message == None):\n",
    "            print(\"Test 2 Failed - No failure message present\")\n",
    "            return\n",
    "        \n",
    "        [cookies,act2] = do_logout(cookies)\n",
    "        \n",
    "        where = find_redirect(act2)\n",
    "    \n",
    "        if (where != '/index.html'):\n",
    "            print(\"Test 2 Failed - Expected /index.html got {\"+where+\"}\")\n",
    "            return\n",
    "        \n",
    "        print(\"Test 2 Passed\")\n",
    "    except:\n",
    "        print(\"Test 2 Failed - Exception Caused.\")\n",
    "        "
   ]
  },
  {
   "cell_type": "code",
   "execution_count": 10,
   "metadata": {
    "collapsed": true
   },
   "outputs": [],
   "source": [
    "# Test 3 - Injection attack\n",
    "def test3():\n",
    "    try:\n",
    "        cookies = ['','']\n",
    "        [cookies,act2] = do_login(cookies,\"test1\",'\"'+' OR \"0\"=\"0')\n",
    "        where = find_redirect(act2)\n",
    "    \n",
    "        if (where != None):\n",
    "            print(\"Test 3 Failed - Unexpected redirect.\")\n",
    "            return\n",
    "        \n",
    "        message = find_refill(act2,'message')\n",
    "    \n",
    "        if (message == None):\n",
    "            print(\"Test 3 Failed - No failure message present\")\n",
    "            return\n",
    "        \n",
    "        [cookies,act2] = do_logout(cookies)\n",
    "        \n",
    "        where = find_redirect(act2)\n",
    "    \n",
    "        if (where != '/index.html'):\n",
    "            print(\"Test 3 Failed - Expected /index.html got {\"+where+\"}\")\n",
    "            return\n",
    "        \n",
    "        print(\"Test 3 Passed\")\n",
    "    except:\n",
    "        print(\"Test 3 Failed - Exception Caused.\")"
   ]
  },
  {
   "cell_type": "code",
   "execution_count": 11,
   "metadata": {
    "collapsed": true
   },
   "outputs": [],
   "source": [
    "# Test 4 - Simple add\n",
    "def test4():\n",
    "    try:\n",
    "        cookies = ['','']\n",
    "        [cookies,act] = do_login(cookies,\"test1\",\"password1\")\n",
    "        where = find_redirect(act)\n",
    "    \n",
    "        if (where != '/page.html'):\n",
    "            print(\"Test 4 Failed - Unexpected redirect.(1)\")\n",
    "            return\n",
    "        \n",
    "        [cookies,act] = do_add(cookies,\"road\",1,\"car\")\n",
    "      \n",
    "        where = find_redirect(act)\n",
    "    \n",
    "        if (where != None):\n",
    "            print(\"Test 4 Failed - Unexpected redirect.(2)\")\n",
    "            return\n",
    "        \n",
    "        message = find_refill(act,'message')\n",
    "    \n",
    "        if (message == None):\n",
    "            print(\"Test 4 Failed - No acknowledge message present\")\n",
    "            return\n",
    "        \n",
    "        total = find_refill(act,'total')\n",
    "    \n",
    "        if (total == None):\n",
    "            print(\"Test 4 Failed - No total message present\")\n",
    "            return\n",
    "        \n",
    "        if (total != \"1\"):\n",
    "            print(\"Test 4 Failed - Total not expected value\")\n",
    "            return\n",
    "        \n",
    "        [cookies,act] = do_logout(cookies)\n",
    "        \n",
    "        where = find_redirect(act)\n",
    "    \n",
    "        if (where != '/index.html'):\n",
    "            print(\"Test 4 Failed - Expected /index.html got {\"+where+\"}\")\n",
    "            return\n",
    "        \n",
    "        print(\"Test 4 Passed\")\n",
    "    except:\n",
    "        print(\"Test 4 Failed - Exception Caused.\")"
   ]
  },
  {
   "cell_type": "code",
   "execution_count": 12,
   "metadata": {
    "collapsed": true
   },
   "outputs": [
    {
     "name": "stdout",
     "output_type": "stream",
     "text": [
      "Test 1 Failed - Exception Caused.\n",
      "Test 2 Failed - No failure message present\n",
      "Test 3 Failed - No failure message present\n",
      "Test 4 Failed - Unexpected redirect.(1)\n"
     ]
    }
   ],
   "source": [
    "# Run all tests\n",
    "test1()\n",
    "test2()\n",
    "test3()\n",
    "test4()"
   ]
  },
  {
   "cell_type": "code",
   "execution_count": null,
   "metadata": {
    "collapsed": true
   },
   "outputs": [],
   "source": []
  }
 ],
 "metadata": {
  "kernelspec": {
   "display_name": "Python 3",
   "language": "python",
   "name": "python3"
  },
  "language_info": {
   "codemirror_mode": {
    "name": "ipython",
    "version": 3
   },
   "file_extension": ".py",
   "mimetype": "text/x-python",
   "name": "python",
   "nbconvert_exporter": "python",
   "pygments_lexer": "ipython3",
   "version": "3.8.8"
  }
 },
 "nbformat": 4,
 "nbformat_minor": 2
}
